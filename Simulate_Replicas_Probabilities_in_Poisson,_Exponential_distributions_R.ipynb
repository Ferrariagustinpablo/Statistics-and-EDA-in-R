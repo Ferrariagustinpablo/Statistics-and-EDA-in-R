{
  "nbformat": 4,
  "nbformat_minor": 0,
  "metadata": {
    "colab": {
      "name": "Simulate Replicas. Probabilities in Poisson, Exponential distributions R ",
      "provenance": [],
      "collapsed_sections": [],
      "toc_visible": true,
      "include_colab_link": true
    },
    "kernelspec": {
      "name": "ir",
      "display_name": "R"
    }
  },
  "cells": [
    {
      "cell_type": "markdown",
      "metadata": {
        "id": "view-in-github",
        "colab_type": "text"
      },
      "source": [
        "<a href=\"https://colab.research.google.com/github/Ferrariagustinpablo/Statistics-and-EDA-in-R/blob/main/Simulate_Replicas_Probabilities_in_Poisson%2C_Exponential_distributions_R.ipynb\" target=\"_parent\"><img src=\"https://colab.research.google.com/assets/colab-badge.svg\" alt=\"Open In Colab\"/></a>"
      ]
    },
    {
      "cell_type": "markdown",
      "metadata": {
        "id": "cYE7mEi2ky38"
      },
      "source": [
        "# Import libraries"
      ]
    },
    {
      "cell_type": "code",
      "metadata": {
        "id": "n5iRaAJmF58v",
        "colab": {
          "base_uri": "https://localhost:8080/"
        },
        "outputId": "96be52ce-00db-46ac-fe25-9329eb3cd7cf"
      },
      "source": [
        "# Install\r\n",
        "install.packages(\"openintro\")"
      ],
      "execution_count": null,
      "outputs": [
        {
          "output_type": "stream",
          "text": [
            "Installing package into ‘/usr/local/lib/R/site-library’\n",
            "(as ‘lib’ is unspecified)\n",
            "\n",
            "also installing the dependencies ‘airports’, ‘cherryblossom’, ‘usdata’\n",
            "\n",
            "\n"
          ],
          "name": "stderr"
        }
      ]
    },
    {
      "cell_type": "code",
      "metadata": {
        "id": "RoD2lzL9Z3f_",
        "colab": {
          "base_uri": "https://localhost:8080/"
        },
        "outputId": "837a66d1-15af-461f-b36b-a55ce3acc5d2"
      },
      "source": [
        "# Load\r\n",
        "library(devtools)\r\n",
        "library(dplyr)\r\n",
        "library(ggplot2)\r\n",
        "library(openintro)\r\n",
        "library(broom)"
      ],
      "execution_count": null,
      "outputs": [
        {
          "output_type": "stream",
          "text": [
            "Loading required package: usethis\n",
            "\n",
            "\n",
            "Attaching package: ‘dplyr’\n",
            "\n",
            "\n",
            "The following objects are masked from ‘package:stats’:\n",
            "\n",
            "    filter, lag\n",
            "\n",
            "\n",
            "The following objects are masked from ‘package:base’:\n",
            "\n",
            "    intersect, setdiff, setequal, union\n",
            "\n",
            "\n",
            "Loading required package: airports\n",
            "\n",
            "Loading required package: cherryblossom\n",
            "\n",
            "Loading required package: usdata\n",
            "\n"
          ],
          "name": "stderr"
        }
      ]
    },
    {
      "cell_type": "code",
      "metadata": {
        "id": "lbzvqBGgjHTt"
      },
      "source": [
        "# Set random seed to 334\r\n",
        "set.seed(334)\r\n"
      ],
      "execution_count": null,
      "outputs": []
    },
    {
      "cell_type": "markdown",
      "metadata": {
        "id": "-PgC3sSzXOzp"
      },
      "source": [
        "# Building simulated replicas"
      ]
    },
    {
      "cell_type": "markdown",
      "metadata": {
        "id": "BtNOupxAXpNt"
      },
      "source": [
        "## Rolling dice"
      ]
    },
    {
      "cell_type": "code",
      "metadata": {
        "id": "DJXeBpFRXnUm"
      },
      "source": [
        "die = seq(1,6,1)\r\n",
        "\r\n",
        "# Sample 10000 mean replicas\r\n",
        "mean_replicas = replicate(10000, sample(die, 5, replace=TRUE) %>% mean())"
      ],
      "execution_count": null,
      "outputs": []
    },
    {
      "cell_type": "markdown",
      "metadata": {
        "id": "1w_oQHXaYdsW"
      },
      "source": [
        "## Plot sample distribution of 10000 mean replicas (Central Limit Theorem)"
      ]
    },
    {
      "cell_type": "markdown",
      "metadata": {
        "id": "boqP6iB3Zb--"
      },
      "source": [
        "This plot shows the central limit theorem.\r\n",
        "\r\n",
        "The sample distribution of a statistic becomes normally distributed as the number of trials increases.\r\n",
        "\r\n",
        "CLT applies to all summary statistics and no matter the original distribution being sampled from."
      ]
    },
    {
      "cell_type": "code",
      "metadata": {
        "colab": {
          "base_uri": "https://localhost:8080/",
          "height": 437
        },
        "id": "Sdds401GYlrt",
        "outputId": "fdd95b76-a3cc-4167-cafb-cf6e09702924"
      },
      "source": [
        "# Create a histogram of sample distributions\r\n",
        "ggplot(data.frame(mean = mean_replicas), aes(mean)) + geom_histogram(bins=12)"
      ],
      "execution_count": null,
      "outputs": [
        {
          "output_type": "display_data",
          "data": {
            "image/png": "[encoded data removed]",
            "text/plain": [
              "plot without title"
            ]
          },
          "metadata": {
            "tags": [],
            "image/png": {
              "width": 420,
              "height": 420
            }
          }
        }
      ]
    },
    {
      "cell_type": "markdown",
      "metadata": {
        "id": "eQUjmdMYfviu"
      },
      "source": [
        "# Poisson Distribution"
      ]
    },
    {
      "cell_type": "markdown",
      "metadata": {
        "id": "y_z8z51lgFKP"
      },
      "source": [
        "This distribution produces when events happen at a certain rate but completely at random.\r\n",
        "\r\n",
        "e.g.1. Number of people arriving at a bank per hour or number of earthqueakes in a certain place.\r\n",
        "\r\n",
        "e.g.2. Number of products sold each week."
      ]
    },
    {
      "cell_type": "markdown",
      "metadata": {
        "id": "JUEXRgWfkVmK"
      },
      "source": [
        "## Supermarket case"
      ]
    },
    {
      "cell_type": "markdown",
      "metadata": {
        "id": "xwnF0xrggk12"
      },
      "source": [
        "Lambda in poisson distribution is the **average number of events per time interval**\r\n",
        "\r\n",
        "for example average number of people arriving at a supermarket: 4 every 10 minutes.\r\n",
        "\r\n",
        "The probability distribution is Poisson and looks like this:"
      ]
    },
    {
      "cell_type": "code",
      "metadata": {
        "colab": {
          "base_uri": "https://localhost:8080/",
          "height": 437
        },
        "id": "5dNN3hqcfyKe",
        "outputId": "408d03aa-8e96-4e4b-c049-450f23a3f412"
      },
      "source": [
        "ggplot(data.frame(nr_people = rpois(10000, lambda =  4)), aes(nr_people)) +\r\n",
        "geom_histogram(bins=15)"
      ],
      "execution_count": null,
      "outputs": [
        {
          "output_type": "display_data",
          "data": {
            "image/png": "[encoded data removed]",
            "text/plain": [
              "plot without title"
            ]
          },
          "metadata": {
            "tags": [],
            "image/png": {
              "width": 420,
              "height": 420
            }
          }
        }
      ]
    },
    {
      "cell_type": "markdown",
      "metadata": {
        "id": "TyeSJYF2kT7s"
      },
      "source": [
        "## Whats the probability of 5 customers coming to the supermarket?"
      ]
    },
    {
      "cell_type": "code",
      "metadata": {
        "colab": {
          "base_uri": "https://localhost:8080/",
          "height": 35
        },
        "id": "Kt10G7rDkdnQ",
        "outputId": "ed3bfc59-1ad8-46d8-b3f4-e5aa1310c8cb"
      },
      "source": [
        "# Probability of 5 responses. Because is a discrete probability we will use dpois\r\n",
        "dpois(5, lambda = 4)"
      ],
      "execution_count": null,
      "outputs": [
        {
          "output_type": "display_data",
          "data": {
            "text/plain": [
              "[1] 0.1562935"
            ],
            "text/latex": "0.156293451850532",
            "text/markdown": "0.156293451850532",
            "text/html": [
              "0.156293451850532"
            ]
          },
          "metadata": {
            "tags": []
          }
        }
      ]
    },
    {
      "cell_type": "markdown",
      "metadata": {
        "id": "-aESDL6bk2I3"
      },
      "source": [
        "## What's the probability of having only 2 or fewer customers in a given period?"
      ]
    },
    {
      "cell_type": "code",
      "metadata": {
        "colab": {
          "base_uri": "https://localhost:8080/",
          "height": 35
        },
        "id": "hQxU01rSkuBU",
        "outputId": "4f576ea2-0f03-435e-88c2-dcdd4a5f24d7"
      },
      "source": [
        "# Probability of 2 or fewer responses\r\n",
        "ppois(2, lambda = 4)"
      ],
      "execution_count": null,
      "outputs": [
        {
          "output_type": "display_data",
          "data": {
            "text/plain": [
              "[1] 0.2381033"
            ],
            "text/latex": "0.238103305553544",
            "text/markdown": "0.238103305553544",
            "text/html": [
              "0.238103305553544"
            ]
          },
          "metadata": {
            "tags": []
          }
        }
      ]
    },
    {
      "cell_type": "markdown",
      "metadata": {
        "id": "XtRjaHualSep"
      },
      "source": [
        "## What's the probability of having more than or equal than 10 customers?"
      ]
    },
    {
      "cell_type": "code",
      "metadata": {
        "colab": {
          "base_uri": "https://localhost:8080/",
          "height": 35
        },
        "id": "6y0KweA4lYw3",
        "outputId": "a0d0c569-a67c-4e25-c0e1-a393f5fbab32"
      },
      "source": [
        "ppois(10, lambda = 4, lower.tail=F)"
      ],
      "execution_count": null,
      "outputs": [
        {
          "output_type": "display_data",
          "data": {
            "text/plain": [
              "[1] 0.002839766"
            ],
            "text/latex": "0.00283976612051374",
            "text/markdown": "0.00283976612051374",
            "text/html": [
              "0.00283976612051374"
            ]
          },
          "metadata": {
            "tags": []
          }
        }
      ]
    },
    {
      "cell_type": "markdown",
      "metadata": {
        "id": "z8J9y-yulc5L"
      },
      "source": [
        "0.2% This is rare case."
      ]
    },
    {
      "cell_type": "markdown",
      "metadata": {
        "id": "ckjsFXLMl6SU"
      },
      "source": [
        "## how many customers are going to enter 90% of times"
      ]
    },
    {
      "cell_type": "code",
      "metadata": {
        "colab": {
          "base_uri": "https://localhost:8080/",
          "height": 35
        },
        "id": "BNutKLT6lGLx",
        "outputId": "81e02190-0719-4103-ee75-91d4e103a95a"
      },
      "source": [
        "# 90% of times would be less or equal than:\r\n",
        "qpois(.90,lambda=4)"
      ],
      "execution_count": null,
      "outputs": [
        {
          "output_type": "display_data",
          "data": {
            "text/plain": [
              "[1] 7"
            ],
            "text/latex": "7",
            "text/markdown": "7",
            "text/html": [
              "7"
            ]
          },
          "metadata": {
            "tags": []
          }
        }
      ]
    },
    {
      "cell_type": "markdown",
      "metadata": {
        "id": "2LPYKEGQmyi6"
      },
      "source": [
        "# Exponential Distribution"
      ]
    },
    {
      "cell_type": "markdown",
      "metadata": {
        "id": "ahvoJGlEnXTD"
      },
      "source": [
        "Also uses lambda and continuous as poisson distribution.\r\n",
        "\r\n",
        "For poisson events. **The probability of time between poisson events are exponentially distributed.**\r\n",
        "\r\n",
        "e.g. probability of > 5 minutes between customers arrivals."
      ]
    },
    {
      "cell_type": "markdown",
      "metadata": {
        "id": "FbhjKjMuooDa"
      },
      "source": [
        "## Supermarket (Time between customers arrivals)\r\n",
        "\r\n",
        "We know the average number of people arriving at a supermarket is 4 every 10 minutes. This is **lambda (Poisson)**\r\n",
        "\r\n",
        "now, in terms of **rate** is 0.4 every minute (4 customers / 10 min)"
      ]
    },
    {
      "cell_type": "code",
      "metadata": {
        "colab": {
          "base_uri": "https://localhost:8080/",
          "height": 35
        },
        "id": "JDs0KGKfoOEd",
        "outputId": "c357a49b-a56b-4595-e75d-c6ec8b2c43b6"
      },
      "source": [
        "# rate of customer arrival every minute.\r\n",
        "rate_min = 4/10\r\n",
        "rate_min\r\n"
      ],
      "execution_count": null,
      "outputs": [
        {
          "output_type": "display_data",
          "data": {
            "text/plain": [
              "[1] 0.4"
            ],
            "text/latex": "0.4",
            "text/markdown": "0.4",
            "text/html": [
              "0.4"
            ]
          },
          "metadata": {
            "tags": []
          }
        }
      ]
    },
    {
      "cell_type": "code",
      "metadata": {
        "colab": {
          "base_uri": "https://localhost:8080/",
          "height": 437
        },
        "id": "eD6FcTyenDqG",
        "outputId": "fba1c458-9494-4ec7-ab94-22869750e7f8"
      },
      "source": [
        "ggplot(data.frame(time = rexp(10000, rate_min)), aes(time)) +\r\n",
        "  geom_histogram(bins=20)"
      ],
      "execution_count": null,
      "outputs": [
        {
          "output_type": "display_data",
          "data": {
            "image/png": "[encoded data removed]",
            "text/plain": [
              "plot without title"
            ]
          },
          "metadata": {
            "tags": [],
            "image/png": {
              "width": 420,
              "height": 420
            }
          }
        }
      ]
    },
    {
      "cell_type": "markdown",
      "metadata": {
        "id": "-RfRadvdqhMa"
      },
      "source": [
        "## What's the probability of waiting a customer more than 2 minutes?"
      ]
    },
    {
      "cell_type": "code",
      "metadata": {
        "colab": {
          "base_uri": "https://localhost:8080/",
          "height": 35
        },
        "id": "7BTVTBvOqmIJ",
        "outputId": "3dd52f9d-9b1c-4c7d-e80c-240d488d2e33"
      },
      "source": [
        "# P(wait > 2 minutes)\r\n",
        "pexp(2, rate=rate_min, lower.tail=F)"
      ],
      "execution_count": null,
      "outputs": [
        {
          "output_type": "display_data",
          "data": {
            "text/plain": [
              "[1] 0.449329"
            ],
            "text/latex": "0.449328964117222",
            "text/markdown": "0.449328964117222",
            "text/html": [
              "0.449328964117222"
            ]
          },
          "metadata": {
            "tags": []
          }
        }
      ]
    },
    {
      "cell_type": "markdown",
      "metadata": {
        "id": "vYfgQhEmvDjx"
      },
      "source": [
        "# Student's-t"
      ]
    },
    {
      "cell_type": "markdown",
      "metadata": {
        "id": "Ap4gfS5UvKHd"
      },
      "source": [
        "Student's-t tails are thicker than normal distribution. This means probability of falling further from the mean is greater.\r\n",
        "\r\n",
        "Student's-t has parameter degrees of freedom (DF) which affects the thickness of tails. **Lower DF means thicker tails.**"
      ]
    },
    {
      "cell_type": "markdown",
      "metadata": {
        "id": "HYnSPTBSv7SA"
      },
      "source": [
        "# Log-normal distribution\r\n",
        "\r\n",
        "Variables whose logarithm is normally distributed.\r\n",
        "Many real world problems follows this distribution."
      ]
    },
    {
      "cell_type": "code",
      "metadata": {
        "id": "Zw53WxlHvGds"
      },
      "source": [
        ""
      ],
      "execution_count": null,
      "outputs": []
    }
  ]
}