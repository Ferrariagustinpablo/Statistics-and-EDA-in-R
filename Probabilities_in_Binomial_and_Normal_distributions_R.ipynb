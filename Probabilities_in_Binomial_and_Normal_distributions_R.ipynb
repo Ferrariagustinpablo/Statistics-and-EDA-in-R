{
  "nbformat": 4,
  "nbformat_minor": 0,
  "metadata": {
    "colab": {
      "name": "Probabilities in Binomial and Normal distributions R ",
      "provenance": [],
      "collapsed_sections": [],
      "toc_visible": true,
      "include_colab_link": true
    },
    "kernelspec": {
      "name": "ir",
      "display_name": "R"
    }
  },
  "cells": [
    {
      "cell_type": "markdown",
      "metadata": {
        "id": "view-in-github",
        "colab_type": "text"
      },
      "source": [
        "<a href=\"https://colab.research.google.com/github/Ferrariagustinpablo/Statistics-and-EDA-in-R/blob/main/Probabilities_in_Binomial_and_Normal_distributions_R.ipynb\" target=\"_parent\"><img src=\"https://colab.research.google.com/assets/colab-badge.svg\" alt=\"Open In Colab\"/></a>"
      ]
    },
    {
      "cell_type": "markdown",
      "metadata": {
        "id": "cYE7mEi2ky38"
      },
      "source": [
        "# Import libraries"
      ]
    },
    {
      "cell_type": "code",
      "metadata": {
        "id": "n5iRaAJmF58v",
        "colab": {
          "base_uri": "https://localhost:8080/"
        },
        "outputId": "789193e6-45bd-4d47-a13f-2d4d16dda033"
      },
      "source": [
        "# Install\r\n",
        "install.packages(\"openintro\")"
      ],
      "execution_count": 30,
      "outputs": [
        {
          "output_type": "stream",
          "text": [
            "Installing package into ‘/usr/local/lib/R/site-library’\n",
            "(as ‘lib’ is unspecified)\n",
            "\n"
          ],
          "name": "stderr"
        }
      ]
    },
    {
      "cell_type": "code",
      "metadata": {
        "id": "RoD2lzL9Z3f_"
      },
      "source": [
        "# Load\r\n",
        "library(devtools)\r\n",
        "library(dplyr)\r\n",
        "library(ggplot2)\r\n",
        "library(openintro)\r\n",
        "library(broom)"
      ],
      "execution_count": 31,
      "outputs": []
    },
    {
      "cell_type": "markdown",
      "metadata": {
        "id": "smi6ADJ_lQWR"
      },
      "source": [
        "# Uniform distribution"
      ]
    },
    {
      "cell_type": "code",
      "metadata": {
        "id": "lbzvqBGgjHTt"
      },
      "source": [
        "# Set random seed to 334\r\n",
        "set.seed(334)\r\n",
        "\r\n",
        "samples = data.frame(a = seq(1,1000,1))\r\n"
      ],
      "execution_count": 32,
      "outputs": []
    },
    {
      "cell_type": "code",
      "metadata": {
        "colab": {
          "base_uri": "https://localhost:8080/",
          "height": 437
        },
        "id": "_N8-ILPYjLI1",
        "outputId": "955de9d3-4873-4fa0-b0ca-f43d08de6373"
      },
      "source": [
        "# Generate 1000 wait times between 0 and 30 mins, save in time column\r\n",
        "samples = samples %>%\r\n",
        "  mutate(time = runif(1000, min = 0, max = 30))\r\n",
        "\r\n",
        "# Create a histogram of simulated times\r\n",
        "ggplot(samples, aes(time)) +\r\n",
        "  geom_histogram(bins = 30)"
      ],
      "execution_count": 33,
      "outputs": [
        {
          "output_type": "display_data",
          "data": {
            "image/png": "[encoded data removed]",
            "text/plain": [
              "plot without title"
            ]
          },
          "metadata": {
            "tags": [],
            "image/png": {
              "width": 420,
              "height": 420
            }
          }
        }
      ]
    },
    {
      "cell_type": "markdown",
      "metadata": {
        "id": "cWXOW1uflR4F"
      },
      "source": [
        "# Binomial distribution"
      ]
    },
    {
      "cell_type": "markdown",
      "metadata": {
        "id": "BsUD2eBq7Ur8"
      },
      "source": [
        "Binomial, \r\n",
        "\r\n",
        "n: number of trials\r\n",
        "\r\n",
        "p: prob of success"
      ]
    },
    {
      "cell_type": "code",
      "metadata": {
        "colab": {
          "base_uri": "https://localhost:8080/",
          "height": 206
        },
        "id": "7g5AmCkSlUQ7",
        "outputId": "e69b2b05-e5da-4346-992e-f77d295319ec"
      },
      "source": [
        "# 8 Flips, one coin, 50% of the time\r\n",
        "rbinom(8,1,0.5)\r\n",
        "\r\n",
        "# 10 experiments, 3 n, 0.25 prob of occur\r\n",
        "data.frame(exp = rbinom(10,3,0.25)) %>%\r\n",
        "  count(exp) %>%\r\n",
        "  mutate(prob = n / sum(n))"
      ],
      "execution_count": 45,
      "outputs": [
        {
          "output_type": "display_data",
          "data": {
            "text/plain": [
              "[1] 0 1 1 0 0 1 0 0"
            ],
            "text/latex": "\\begin{enumerate*}\n\\item 0\n\\item 1\n\\item 1\n\\item 0\n\\item 0\n\\item 1\n\\item 0\n\\item 0\n\\end{enumerate*}\n",
            "text/markdown": "1. 0\n2. 1\n3. 1\n4. 0\n5. 0\n6. 1\n7. 0\n8. 0\n\n\n",
            "text/html": [
              "<style>\n",
              ".list-inline {list-style: none; margin:0; padding: 0}\n",
              ".list-inline>li {display: inline-block}\n",
              ".list-inline>li:not(:last-child)::after {content: \"\\00b7\"; padding: 0 .5ex}\n",
              "</style>\n",
              "<ol class=list-inline><li>0</li><li>1</li><li>1</li><li>0</li><li>0</li><li>1</li><li>0</li><li>0</li></ol>\n"
            ]
          },
          "metadata": {
            "tags": []
          }
        },
        {
          "output_type": "display_data",
          "data": {
            "text/plain": [
              "  exp n prob\n",
              "1 0   2 0.2 \n",
              "2 1   7 0.7 \n",
              "3 2   1 0.1 "
            ],
            "text/latex": "A data.frame: 3 × 3\n\\begin{tabular}{r|lll}\n  & exp & n & prob\\\\\n  & <int> & <int> & <dbl>\\\\\n\\hline\n\t1 & 0 & 2 & 0.2\\\\\n\t2 & 1 & 7 & 0.7\\\\\n\t3 & 2 & 1 & 0.1\\\\\n\\end{tabular}\n",
            "text/markdown": "\nA data.frame: 3 × 3\n\n| <!--/--> | exp &lt;int&gt; | n &lt;int&gt; | prob &lt;dbl&gt; |\n|---|---|---|---|\n| 1 | 0 | 2 | 0.2 |\n| 2 | 1 | 7 | 0.7 |\n| 3 | 2 | 1 | 0.1 |\n\n",
            "text/html": [
              "<table class=\"dataframe\">\n",
              "<caption>A data.frame: 3 × 3</caption>\n",
              "<thead>\n",
              "\t<tr><th></th><th scope=col>exp</th><th scope=col>n</th><th scope=col>prob</th></tr>\n",
              "\t<tr><th></th><th scope=col>&lt;int&gt;</th><th scope=col>&lt;int&gt;</th><th scope=col>&lt;dbl&gt;</th></tr>\n",
              "</thead>\n",
              "<tbody>\n",
              "\t<tr><th scope=row>1</th><td>0</td><td>2</td><td>0.2</td></tr>\n",
              "\t<tr><th scope=row>2</th><td>1</td><td>7</td><td>0.7</td></tr>\n",
              "\t<tr><th scope=row>3</th><td>2</td><td>1</td><td>0.1</td></tr>\n",
              "</tbody>\n",
              "</table>\n"
            ]
          },
          "metadata": {
            "tags": []
          }
        }
      ]
    },
    {
      "cell_type": "markdown",
      "metadata": {
        "id": "dy3QMeQP7hxX"
      },
      "source": [
        "For the last experiment take the probability of having 2 succesess."
      ]
    },
    {
      "cell_type": "code",
      "metadata": {
        "colab": {
          "base_uri": "https://localhost:8080/",
          "height": 52
        },
        "id": "NnIOb92r7trO",
        "outputId": "0a3b9e99-f204-4a57-fbc3-db60ef4632cb"
      },
      "source": [
        "# Probability of having 2 succesess\r\n",
        "dbinom(2,3,0.25)\r\n",
        "\r\n",
        "# Probability of having MORE than 2 succesess\r\n",
        "pbinom(2,3,0.25, lower.tail=FALSE)"
      ],
      "execution_count": 48,
      "outputs": [
        {
          "output_type": "display_data",
          "data": {
            "text/plain": [
              "[1] 0.140625"
            ],
            "text/latex": "0.140625",
            "text/markdown": "0.140625",
            "text/html": [
              "0.140625"
            ]
          },
          "metadata": {
            "tags": []
          }
        },
        {
          "output_type": "display_data",
          "data": {
            "text/plain": [
              "[1] 0.015625"
            ],
            "text/latex": "0.015625",
            "text/markdown": "0.015625",
            "text/html": [
              "0.015625"
            ]
          },
          "metadata": {
            "tags": []
          }
        }
      ]
    },
    {
      "cell_type": "markdown",
      "metadata": {
        "id": "Ds748d-g8onq"
      },
      "source": [
        "Expected value is n x p"
      ]
    },
    {
      "cell_type": "code",
      "metadata": {
        "colab": {
          "base_uri": "https://localhost:8080/",
          "height": 35
        },
        "id": "mdezO2rb8diw",
        "outputId": "eebbed11-718b-49cd-abfb-b8a841a2d057"
      },
      "source": [
        "# Expected value: of 3 n and prob of 0.25\r\n",
        "3*0.25\r\n"
      ],
      "execution_count": 54,
      "outputs": [
        {
          "output_type": "display_data",
          "data": {
            "text/plain": [
              "[1] 0.75"
            ],
            "text/latex": "0.75",
            "text/markdown": "0.75",
            "text/html": [
              "0.75"
            ]
          },
          "metadata": {
            "tags": []
          }
        }
      ]
    },
    {
      "cell_type": "markdown",
      "metadata": {
        "id": "_POXz0hZ96Lf"
      },
      "source": [
        "## Simulating sales deals"
      ]
    },
    {
      "cell_type": "markdown",
      "metadata": {
        "id": "YI_A4qrh-TIO"
      },
      "source": [
        "Assume that Amir usually works on 3 deals per week, and overall, he wins 30% of deals he works on. Each deal has a binary outcome: it's either lost, or won, so you can model his sales deals with a binomial distribution. In this exercise, you'll help Amir simulate a year's worth of his deals so he can better understand his performance."
      ]
    },
    {
      "cell_type": "code",
      "metadata": {
        "colab": {
          "base_uri": "https://localhost:8080/",
          "height": 52
        },
        "id": "T1I3pNRC98nm",
        "outputId": "1eac2dbe-a0f8-4f18-d512-08476aa90f21"
      },
      "source": [
        "# Set random seed to 10\r\n",
        "set.seed(10)\r\n",
        "\r\n",
        "# Simulate 1000 weeks of 3 deals\r\n",
        "deals <- rbinom(10000, 3, 0.3)\r\n",
        "\r\n",
        "# Calculate mean deals won per week\r\n",
        "mean(deals)\r\n",
        "\r\n",
        "# The expected deal closed is actually n x p:\r\n",
        "3*0.3"
      ],
      "execution_count": 69,
      "outputs": [
        {
          "output_type": "display_data",
          "data": {
            "text/plain": [
              "[1] 0.9076"
            ],
            "text/latex": "0.9076",
            "text/markdown": "0.9076",
            "text/html": [
              "0.9076"
            ]
          },
          "metadata": {
            "tags": []
          }
        },
        {
          "output_type": "display_data",
          "data": {
            "text/plain": [
              "[1] 0.9"
            ],
            "text/latex": "0.9",
            "text/markdown": "0.9",
            "text/html": [
              "0.9"
            ]
          },
          "metadata": {
            "tags": []
          }
        }
      ]
    },
    {
      "cell_type": "markdown",
      "metadata": {
        "id": "7zHPgeYU_JGo"
      },
      "source": [
        "### What's the probability that Amir closes all 3 deals in a week?"
      ]
    },
    {
      "cell_type": "code",
      "metadata": {
        "colab": {
          "base_uri": "https://localhost:8080/",
          "height": 35
        },
        "id": "Zw5Ff-XB_Jnh",
        "outputId": "a6a87ec7-d35a-44ee-f352-45c7cd9481ca"
      },
      "source": [
        "# Probability of closing all 3 deals in a week?\r\n",
        "dbinom(3,3,0.30)"
      ],
      "execution_count": 72,
      "outputs": [
        {
          "output_type": "display_data",
          "data": {
            "text/plain": [
              "[1] 0.027"
            ],
            "text/latex": "0.027",
            "text/markdown": "0.027",
            "text/html": [
              "0.027"
            ]
          },
          "metadata": {
            "tags": []
          }
        }
      ]
    },
    {
      "cell_type": "markdown",
      "metadata": {
        "id": "m_GXQzD8_ns6"
      },
      "source": [
        "### What's the probability that Amir closes 1 or fewer deals in a week?"
      ]
    },
    {
      "cell_type": "code",
      "metadata": {
        "colab": {
          "base_uri": "https://localhost:8080/",
          "height": 35
        },
        "id": "gGJUYN41_qDU",
        "outputId": "217b5d0e-e9ca-46c8-a956-1b0024dea891"
      },
      "source": [
        "# Probability of having 1 or FEWER deals in a week?\r\n",
        "pbinom(1,3,0.30)"
      ],
      "execution_count": 75,
      "outputs": [
        {
          "output_type": "display_data",
          "data": {
            "text/plain": [
              "[1] 0.784"
            ],
            "text/latex": "0.784",
            "text/markdown": "0.784",
            "text/html": [
              "0.784"
            ]
          },
          "metadata": {
            "tags": []
          }
        }
      ]
    },
    {
      "cell_type": "markdown",
      "metadata": {
        "id": "UifUiLWEAGrT"
      },
      "source": [
        "### What's the probability that Amir closes more than 1 deal?"
      ]
    },
    {
      "cell_type": "code",
      "metadata": {
        "colab": {
          "base_uri": "https://localhost:8080/",
          "height": 35
        },
        "id": "8bS0X6CfAIV5",
        "outputId": "bcef534f-151d-4c7c-c8a2-6c413f81e6cc"
      },
      "source": [
        "# Probability of closing > 1 deal out of 3 deals\r\n",
        "pbinom(1,3,0.30, lower.tail = F)"
      ],
      "execution_count": 76,
      "outputs": [
        {
          "output_type": "display_data",
          "data": {
            "text/plain": [
              "[1] 0.216"
            ],
            "text/latex": "0.216",
            "text/markdown": "0.216",
            "text/html": [
              "0.216"
            ]
          },
          "metadata": {
            "tags": []
          }
        }
      ]
    },
    {
      "cell_type": "markdown",
      "metadata": {
        "id": "CdJtVc2dAWn5"
      },
      "source": [
        "### Now Amir wants to know how many deals he can expect to close each week if his win rate changes."
      ]
    },
    {
      "cell_type": "code",
      "metadata": {
        "colab": {
          "base_uri": "https://localhost:8080/",
          "height": 69
        },
        "id": "hX0ZXOjiAX3P",
        "outputId": "94889fc0-d788-4622-9544-947063432cda"
      },
      "source": [
        "# Calculate the expected number of sales out of the 3 he works on that Amir will win each week if he maintains his 30% win rate.\r\n",
        "3*0.3\r\n",
        "\r\n",
        "#Calculate the expected number of sales out of the 3 he works on that he'll win if his win rate drops to 25%.\r\n",
        "3*0.25\r\n",
        "\r\n",
        "#Calculate the expected number of sales out of the 3 he works on that he'll win if his win rate rises to 35%.\r\n",
        "3*0.35"
      ],
      "execution_count": 77,
      "outputs": [
        {
          "output_type": "display_data",
          "data": {
            "text/plain": [
              "[1] 0.9"
            ],
            "text/latex": "0.9",
            "text/markdown": "0.9",
            "text/html": [
              "0.9"
            ]
          },
          "metadata": {
            "tags": []
          }
        },
        {
          "output_type": "display_data",
          "data": {
            "text/plain": [
              "[1] 0.75"
            ],
            "text/latex": "0.75",
            "text/markdown": "0.75",
            "text/html": [
              "0.75"
            ]
          },
          "metadata": {
            "tags": []
          }
        },
        {
          "output_type": "display_data",
          "data": {
            "text/plain": [
              "[1] 1.05"
            ],
            "text/latex": "1.05",
            "text/markdown": "1.05",
            "text/html": [
              "1.05"
            ]
          },
          "metadata": {
            "tags": []
          }
        }
      ]
    },
    {
      "cell_type": "markdown",
      "metadata": {
        "id": "rOf1YROpBKYS"
      },
      "source": [
        "# Normal Distribution"
      ]
    },
    {
      "cell_type": "markdown",
      "metadata": {
        "id": "J0Cyp2hGDJle"
      },
      "source": [
        "## Less or higher than value in normal distr"
      ]
    },
    {
      "cell_type": "code",
      "metadata": {
        "colab": {
          "base_uri": "https://localhost:8080/",
          "height": 69
        },
        "id": "qIaHSa7xBMjV",
        "outputId": "5b13cdc3-d5b9-4846-d0a9-829ac04cef49"
      },
      "source": [
        "# normal distribution of mean 161 and std of 7 for height of women.\r\n",
        "# What percentage is less than 154?\r\n",
        "pnorm(154, mean=161, sd=7)\r\n",
        "\r\n",
        "# What percentage is more than 154 cm?\r\n",
        "pnorm(154, mean=161, sd=7, lower.tail=F)\r\n",
        "\r\n",
        "# or\r\n",
        "1- pnorm(154, mean=161, sd=7)"
      ],
      "execution_count": 81,
      "outputs": [
        {
          "output_type": "display_data",
          "data": {
            "text/plain": [
              "[1] 0.1586553"
            ],
            "text/latex": "0.158655253931457",
            "text/markdown": "0.158655253931457",
            "text/html": [
              "0.158655253931457"
            ]
          },
          "metadata": {
            "tags": []
          }
        },
        {
          "output_type": "display_data",
          "data": {
            "text/plain": [
              "[1] 0.8413447"
            ],
            "text/latex": "0.841344746068543",
            "text/markdown": "0.841344746068543",
            "text/html": [
              "0.841344746068543"
            ]
          },
          "metadata": {
            "tags": []
          }
        },
        {
          "output_type": "display_data",
          "data": {
            "text/plain": [
              "[1] 0.8413447"
            ],
            "text/latex": "0.841344746068543",
            "text/markdown": "0.841344746068543",
            "text/html": [
              "0.841344746068543"
            ]
          },
          "metadata": {
            "tags": []
          }
        }
      ]
    },
    {
      "cell_type": "markdown",
      "metadata": {
        "id": "buV4RoMrDNKf"
      },
      "source": [
        "## What height are 90% of women shorter than?"
      ]
    },
    {
      "cell_type": "code",
      "metadata": {
        "colab": {
          "base_uri": "https://localhost:8080/",
          "height": 35
        },
        "id": "wbtWF45QDfJY",
        "outputId": "ec2e6cb5-a3c4-4d67-9cff-04b45515100b"
      },
      "source": [
        "qnorm(0.9, mean=161, sd=7)"
      ],
      "execution_count": 82,
      "outputs": [
        {
          "output_type": "display_data",
          "data": {
            "text/plain": [
              "[1] 169.9709"
            ],
            "text/latex": "169.970860958812",
            "text/markdown": "169.970860958812",
            "text/html": [
              "169.970860958812"
            ]
          },
          "metadata": {
            "tags": []
          }
        }
      ]
    },
    {
      "cell_type": "markdown",
      "metadata": {
        "id": "7mh9kaF0DmI7"
      },
      "source": [
        "90% of women is shorter than 169,97 cm."
      ]
    },
    {
      "cell_type": "markdown",
      "metadata": {
        "id": "dtvnfaUJDyhp"
      },
      "source": [
        "## What heith are 80% of women taller than?"
      ]
    },
    {
      "cell_type": "code",
      "metadata": {
        "colab": {
          "base_uri": "https://localhost:8080/",
          "height": 35
        },
        "id": "bedgwSz-D4kW",
        "outputId": "751deced-529b-4c27-fe67-5dbd0d896d15"
      },
      "source": [
        "qnorm(0.8, mean=161, sd=7, lower.tail=F)"
      ],
      "execution_count": 83,
      "outputs": [
        {
          "output_type": "display_data",
          "data": {
            "text/plain": [
              "[1] 155.1087"
            ],
            "text/latex": "155.10865136499",
            "text/markdown": "155.10865136499",
            "text/html": [
              "155.10865136499"
            ]
          },
          "metadata": {
            "tags": []
          }
        }
      ]
    },
    {
      "cell_type": "markdown",
      "metadata": {
        "id": "_irWuuZWD9AL"
      },
      "source": [
        "80% of women are taller than 155.1 cm"
      ]
    },
    {
      "cell_type": "markdown",
      "metadata": {
        "id": "xsBKs84gECSZ"
      },
      "source": [
        "## Generate random numbers of a normal distribution"
      ]
    },
    {
      "cell_type": "code",
      "metadata": {
        "colab": {
          "base_uri": "https://localhost:8080/",
          "height": 52
        },
        "id": "L4KdjpfhEHFM",
        "outputId": "7cb79b43-1cd0-4c93-c18a-f412e43d5bdb"
      },
      "source": [
        "# Ten random number of a normal distribution with 161 and 7 of mean and sd respectively\r\n",
        "rnorm(10, mean=161, sd=7)"
      ],
      "execution_count": 84,
      "outputs": [
        {
          "output_type": "display_data",
          "data": {
            "text/plain": [
              " [1] 168.0808 159.0726 161.9516 167.8087 162.2958 158.2314 160.0522 154.0486\n",
              " [9] 156.3334 162.8257"
            ],
            "text/latex": "\\begin{enumerate*}\n\\item 168.080828374215\n\\item 159.072586020845\n\\item 161.95155420626\n\\item 167.808659919292\n\\item 162.295819102818\n\\item 158.231436364096\n\\item 160.052162363643\n\\item 154.048584359337\n\\item 156.333449547138\n\\item 162.82569000302\n\\end{enumerate*}\n",
            "text/markdown": "1. 168.080828374215\n2. 159.072586020845\n3. 161.95155420626\n4. 167.808659919292\n5. 162.295819102818\n6. 158.231436364096\n7. 160.052162363643\n8. 154.048584359337\n9. 156.333449547138\n10. 162.82569000302\n\n\n",
            "text/html": [
              "<style>\n",
              ".list-inline {list-style: none; margin:0; padding: 0}\n",
              ".list-inline>li {display: inline-block}\n",
              ".list-inline>li:not(:last-child)::after {content: \"\\00b7\"; padding: 0 .5ex}\n",
              "</style>\n",
              "<ol class=list-inline><li>168.080828374215</li><li>159.072586020845</li><li>161.95155420626</li><li>167.808659919292</li><li>162.295819102818</li><li>158.231436364096</li><li>160.052162363643</li><li>154.048584359337</li><li>156.333449547138</li><li>162.82569000302</li></ol>\n"
            ]
          },
          "metadata": {
            "tags": []
          }
        }
      ]
    },
    {
      "cell_type": "markdown",
      "metadata": {
        "id": "hd7fm0gtEmD_"
      },
      "source": [
        "## Simulating with sales deals"
      ]
    },
    {
      "cell_type": "markdown",
      "metadata": {
        "id": "ky4x7OODEohE"
      },
      "source": [
        "### Draw random number of normal dist."
      ]
    },
    {
      "cell_type": "code",
      "metadata": {
        "colab": {
          "base_uri": "https://localhost:8080/",
          "height": 281
        },
        "id": "GGd38friE0uF",
        "outputId": "9fd182b5-01e6-4f13-f6b0-b59bf1c2caf1"
      },
      "source": [
        "amir = readRDS('/content/Amirsalesdeals.rds')\r\n",
        "head(amir)"
      ],
      "execution_count": 88,
      "outputs": [
        {
          "output_type": "display_data",
          "data": {
            "text/plain": [
              "  product   client  status amount  num_users\n",
              "1 Product F Current Won    7389.52 19       \n",
              "2 Product C New     Won    4493.01 43       \n",
              "3 Product B New     Won    5738.09 87       \n",
              "4 Product I Current Won    2591.24 83       \n",
              "5 Product E Current Won    6622.97 17       \n",
              "6 Product B New     Won    5496.27  2       "
            ],
            "text/latex": "A data.frame: 6 × 5\n\\begin{tabular}{r|lllll}\n  & product & client & status & amount & num\\_users\\\\\n  & <fct> & <fct> & <fct> & <dbl> & <dbl>\\\\\n\\hline\n\t1 & Product F & Current & Won & 7389.52 & 19\\\\\n\t2 & Product C & New     & Won & 4493.01 & 43\\\\\n\t3 & Product B & New     & Won & 5738.09 & 87\\\\\n\t4 & Product I & Current & Won & 2591.24 & 83\\\\\n\t5 & Product E & Current & Won & 6622.97 & 17\\\\\n\t6 & Product B & New     & Won & 5496.27 &  2\\\\\n\\end{tabular}\n",
            "text/markdown": "\nA data.frame: 6 × 5\n\n| <!--/--> | product &lt;fct&gt; | client &lt;fct&gt; | status &lt;fct&gt; | amount &lt;dbl&gt; | num_users &lt;dbl&gt; |\n|---|---|---|---|---|---|\n| 1 | Product F | Current | Won | 7389.52 | 19 |\n| 2 | Product C | New     | Won | 4493.01 | 43 |\n| 3 | Product B | New     | Won | 5738.09 | 87 |\n| 4 | Product I | Current | Won | 2591.24 | 83 |\n| 5 | Product E | Current | Won | 6622.97 | 17 |\n| 6 | Product B | New     | Won | 5496.27 |  2 |\n\n",
            "text/html": [
              "<table class=\"dataframe\">\n",
              "<caption>A data.frame: 6 × 5</caption>\n",
              "<thead>\n",
              "\t<tr><th></th><th scope=col>product</th><th scope=col>client</th><th scope=col>status</th><th scope=col>amount</th><th scope=col>num_users</th></tr>\n",
              "\t<tr><th></th><th scope=col>&lt;fct&gt;</th><th scope=col>&lt;fct&gt;</th><th scope=col>&lt;fct&gt;</th><th scope=col>&lt;dbl&gt;</th><th scope=col>&lt;dbl&gt;</th></tr>\n",
              "</thead>\n",
              "<tbody>\n",
              "\t<tr><th scope=row>1</th><td>Product F</td><td>Current</td><td>Won</td><td>7389.52</td><td>19</td></tr>\n",
              "\t<tr><th scope=row>2</th><td>Product C</td><td>New    </td><td>Won</td><td>4493.01</td><td>43</td></tr>\n",
              "\t<tr><th scope=row>3</th><td>Product B</td><td>New    </td><td>Won</td><td>5738.09</td><td>87</td></tr>\n",
              "\t<tr><th scope=row>4</th><td>Product I</td><td>Current</td><td>Won</td><td>2591.24</td><td>83</td></tr>\n",
              "\t<tr><th scope=row>5</th><td>Product E</td><td>Current</td><td>Won</td><td>6622.97</td><td>17</td></tr>\n",
              "\t<tr><th scope=row>6</th><td>Product B</td><td>New    </td><td>Won</td><td>5496.27</td><td> 2</td></tr>\n",
              "</tbody>\n",
              "</table>\n"
            ]
          },
          "metadata": {
            "tags": []
          }
        }
      ]
    },
    {
      "cell_type": "code",
      "metadata": {
        "colab": {
          "base_uri": "https://localhost:8080/",
          "height": 437
        },
        "id": "X4y5tSx4Fj0q",
        "outputId": "374f8b92-0da4-4c81-bbae-e4ac87d91310"
      },
      "source": [
        "# Plot histogram of amount of sales \r\n",
        "ggplot(amir, aes(amount)) + \r\n",
        "  geom_histogram(bins=20)"
      ],
      "execution_count": 92,
      "outputs": [
        {
          "output_type": "display_data",
          "data": {
            "image/png": "[encoded data removed]",
            "text/plain": [
              "plot without title"
            ]
          },
          "metadata": {
            "tags": [],
            "image/png": {
              "width": 420,
              "height": 420
            }
          }
        }
      ]
    },
    {
      "cell_type": "markdown",
      "metadata": {
        "id": "XklFn92rR2tr"
      },
      "source": [
        "### What's the probability of Amir closing a deal worth less than $7500?"
      ]
    },
    {
      "cell_type": "code",
      "metadata": {
        "id": "qgTnBCMUSFn0"
      },
      "source": [
        "mean_amir = mean(amir$amount)\r\n",
        "std_amir = sd(amir$amount)"
      ],
      "execution_count": 97,
      "outputs": []
    },
    {
      "cell_type": "code",
      "metadata": {
        "colab": {
          "base_uri": "https://localhost:8080/",
          "height": 35
        },
        "id": "H4ytW58UR52w",
        "outputId": "c06c3ccc-ab9c-43f5-ed1a-0a51f27906fd"
      },
      "source": [
        "# Proba of closing deal less than $7500\r\n",
        "pnorm(7500, mean=mean_amir, sd=std_amir)"
      ],
      "execution_count": 98,
      "outputs": [
        {
          "output_type": "display_data",
          "data": {
            "text/plain": [
              "[1] 0.9042258"
            ],
            "text/latex": "0.904225822122989",
            "text/markdown": "0.904225822122989",
            "text/html": [
              "0.904225822122989"
            ]
          },
          "metadata": {
            "tags": []
          }
        }
      ]
    },
    {
      "cell_type": "markdown",
      "metadata": {
        "id": "0NATNMJwSdAa"
      },
      "source": [
        "### What's the probability of Amir closing a deal worth more than $1000?"
      ]
    },
    {
      "cell_type": "code",
      "metadata": {
        "colab": {
          "base_uri": "https://localhost:8080/",
          "height": 35
        },
        "id": "5gviiIsySeBX",
        "outputId": "73056378-6da7-4d74-bb45-9d56c4861908"
      },
      "source": [
        "# Proba of closing deal more than $1000\r\n",
        "pnorm(1000, mean=mean_amir, sd=std_amir, lower.tail=F)"
      ],
      "execution_count": 102,
      "outputs": [
        {
          "output_type": "display_data",
          "data": {
            "text/plain": [
              "[1] 0.9679963"
            ],
            "text/latex": "0.967996280379758",
            "text/markdown": "0.967996280379758",
            "text/html": [
              "0.967996280379758"
            ]
          },
          "metadata": {
            "tags": []
          }
        }
      ]
    },
    {
      "cell_type": "markdown",
      "metadata": {
        "id": "q6ehG6tcS5CF"
      },
      "source": [
        "### What's the probability of Amir closing a deal worth between $3000 and $7000?"
      ]
    },
    {
      "cell_type": "code",
      "metadata": {
        "colab": {
          "base_uri": "https://localhost:8080/",
          "height": 35
        },
        "id": "FFdxqIz9S6Ta",
        "outputId": "cc1d39be-8e16-4799-d345-0c38c61f696c"
      },
      "source": [
        "pnorm(7000, mean=mean_amir, sd=std_amir) - pnorm(3000, mean=mean_amir, sd=std_amir)"
      ],
      "execution_count": 104,
      "outputs": [
        {
          "output_type": "display_data",
          "data": {
            "text/plain": [
              "[1] 0.6668035"
            ],
            "text/latex": "0.666803468154091",
            "text/markdown": "0.666803468154091",
            "text/html": [
              "0.666803468154091"
            ]
          },
          "metadata": {
            "tags": []
          }
        }
      ]
    },
    {
      "cell_type": "markdown",
      "metadata": {
        "id": "-DMLBc7KTP31"
      },
      "source": [
        "### What amount will 75% of Amir's sales be more than?"
      ]
    },
    {
      "cell_type": "code",
      "metadata": {
        "colab": {
          "base_uri": "https://localhost:8080/",
          "height": 35
        },
        "id": "Din4F3OVTZQN",
        "outputId": "acaab524-f503-4b29-c6a7-9320db034cc6"
      },
      "source": [
        "qnorm(0.75, mean=mean_amir, sd=std_amir, lower.tail=F)"
      ],
      "execution_count": 108,
      "outputs": [
        {
          "output_type": "display_data",
          "data": {
            "text/plain": [
              "[1] 3423.784"
            ],
            "text/latex": "3423.78359244832",
            "text/markdown": "3423.78359244832",
            "text/html": [
              "3423.78359244832"
            ]
          },
          "metadata": {
            "tags": []
          }
        }
      ]
    },
    {
      "cell_type": "markdown",
      "metadata": {
        "id": "e5n4teZ4UFyP"
      },
      "source": [
        "## New simulation with change in sale ticket and volatility.\r\n",
        "\r\n",
        "The company's financial analyst is predicting that next quarter, the worth of each sale will increase by 20% and the volatility, or standard deviation, of each sale's worth will increase by 30%."
      ]
    },
    {
      "cell_type": "code",
      "metadata": {
        "id": "Ut0SuoHdULud"
      },
      "source": [
        "# New conditions:\r\n",
        "mean_amir_new = mean_amir*1.2\r\n",
        "std_amir_new = std_amir*1.3\r\n"
      ],
      "execution_count": 110,
      "outputs": []
    },
    {
      "cell_type": "markdown",
      "metadata": {
        "id": "TbmYqJfiVOVw"
      },
      "source": [
        "### What's the probability of Amir closing a deal worth more than $1000?"
      ]
    },
    {
      "cell_type": "code",
      "metadata": {
        "colab": {
          "base_uri": "https://localhost:8080/",
          "height": 52
        },
        "id": "l7v67IfLVPf3",
        "outputId": "88e26858-707c-4d52-fdd3-6530a7319a9b"
      },
      "source": [
        "# Proba of closing deal more than $1000 with new conditions\r\n",
        "new = pnorm(1000, mean=mean_amir_new, sd=std_amir_new, lower.tail=F)\r\n",
        "new\r\n",
        "\r\n",
        "# Difference with previous\r\n",
        "old = pnorm(1000, mean=mean_amir, sd=std_amir, lower.tail=F)\r\n",
        "\r\n",
        "# If positive: Improvement\r\n",
        "old - new"
      ],
      "execution_count": 112,
      "outputs": [
        {
          "output_type": "display_data",
          "data": {
            "text/plain": [
              "[1] 0.9628211"
            ],
            "text/latex": "0.962821103853854",
            "text/markdown": "0.962821103853854",
            "text/html": [
              "0.962821103853854"
            ]
          },
          "metadata": {
            "tags": []
          }
        },
        {
          "output_type": "display_data",
          "data": {
            "text/plain": [
              "[1] 0.005175177"
            ],
            "text/latex": "0.00517517652590394",
            "text/markdown": "0.00517517652590394",
            "text/html": [
              "0.00517517652590394"
            ]
          },
          "metadata": {
            "tags": []
          }
        }
      ]
    },
    {
      "cell_type": "markdown",
      "metadata": {
        "id": "t8ar1ZVOVudp"
      },
      "source": [
        "For this metric, the situation is almost the same as before."
      ]
    }
  ]
}