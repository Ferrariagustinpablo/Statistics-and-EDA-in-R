{
  "nbformat": 4,
  "nbformat_minor": 0,
  "metadata": {
    "colab": {
      "name": "Course 1 Carbon footprint",
      "provenance": [],
      "collapsed_sections": [],
      "toc_visible": true,
      "include_colab_link": true
    },
    "kernelspec": {
      "name": "ir",
      "display_name": "R"
    }
  },
  "cells": [
    {
      "cell_type": "markdown",
      "metadata": {
        "id": "view-in-github",
        "colab_type": "text"
      },
      "source": [
        "<a href=\"https://colab.research.google.com/github/Ferrariagustinpablo/Statistics-and-EDA-in-R/blob/main/Exercises%20Carbon_footprint%20Data%20Camp.ipynb\" target=\"_parent\"><img src=\"https://colab.research.google.com/assets/colab-badge.svg\" alt=\"Open In Colab\"/></a>"
      ]
    },
    {
      "cell_type": "markdown",
      "metadata": {
        "id": "cYE7mEi2ky38"
      },
      "source": [
        "# Import libraries"
      ]
    },
    {
      "cell_type": "code",
      "metadata": {
        "id": "n5iRaAJmF58v",
        "colab": {
          "base_uri": "https://localhost:8080/"
        },
        "outputId": "f33b00b3-4b4e-41e7-bbe8-31bc95f81e55"
      },
      "source": [
        "# Install\r\n",
        "install.packages(\"openintro\")"
      ],
      "execution_count": 1,
      "outputs": [
        {
          "output_type": "stream",
          "text": [
            "Installing package into ‘/usr/local/lib/R/site-library’\n",
            "(as ‘lib’ is unspecified)\n",
            "\n",
            "also installing the dependencies ‘airports’, ‘cherryblossom’, ‘usdata’\n",
            "\n",
            "\n"
          ],
          "name": "stderr"
        }
      ]
    },
    {
      "cell_type": "code",
      "metadata": {
        "id": "RoD2lzL9Z3f_",
        "colab": {
          "base_uri": "https://localhost:8080/"
        },
        "outputId": "c1c84bcb-a2bd-4f1f-f2d9-9bb8d62ab182"
      },
      "source": [
        "# Load\r\n",
        "library(devtools)\r\n",
        "library(dplyr)\r\n",
        "library(ggplot2)\r\n",
        "library(openintro)\r\n",
        "library(broom)"
      ],
      "execution_count": null,
      "outputs": [
        {
          "output_type": "stream",
          "text": [
            "Loading required package: usethis\n",
            "\n",
            "\n",
            "Attaching package: ‘dplyr’\n",
            "\n",
            "\n",
            "The following objects are masked from ‘package:stats’:\n",
            "\n",
            "    filter, lag\n",
            "\n",
            "\n",
            "The following objects are masked from ‘package:base’:\n",
            "\n",
            "    intersect, setdiff, setequal, union\n",
            "\n",
            "\n",
            "Loading required package: airports\n",
            "\n",
            "Loading required package: cherryblossom\n",
            "\n",
            "Loading required package: usdata\n",
            "\n"
          ],
          "name": "stderr"
        }
      ]
    },
    {
      "cell_type": "markdown",
      "metadata": {
        "id": "XaJRJ0a6rMXL"
      },
      "source": [
        "# Import dataset Food Consumption & Carbon Footprint"
      ]
    },
    {
      "cell_type": "markdown",
      "metadata": {
        "id": "oqYTuKUQIQhi"
      },
      "source": [
        "Import Food Consumption & Carbon Footprint from datacamp:\r\n",
        "\r\n",
        "https://assets.datacamp.com/production/repositories/5758/datasets/db0baead85e109313372094f52254abaae4ea57f/food_consumption.rds\r\n",
        "https://www.nu3.de/blogs/nutrition/food-carbon-footprint-index-2018\r\n"
      ]
    },
    {
      "cell_type": "code",
      "metadata": {
        "colab": {
          "base_uri": "https://localhost:8080/",
          "height": 367
        },
        "id": "f94XafBgrKor",
        "outputId": "62ed5c01-42da-48f6-b311-ba244bd423bf"
      },
      "source": [
        "# Saved locally \r\n",
        "food_consumption = readRDS(\"/content/food_consumption.rds\")\r\n",
        "\r\n",
        "# Print head and feature value types\r\n",
        "head(food_consumption)\r\n",
        "str(food_consumption)"
      ],
      "execution_count": null,
      "outputs": [
        {
          "output_type": "display_data",
          "data": {
            "text/plain": [
              "  country   food_category consumption co2_emission\n",
              "1 Argentina pork          10.51         37.20     \n",
              "2 Argentina poultry       38.66         41.53     \n",
              "3 Argentina beef          55.48       1712.00     \n",
              "4 Argentina lamb_goat      1.56         54.63     \n",
              "5 Argentina fish           4.36          6.96     \n",
              "6 Argentina eggs          11.39         10.46     "
            ],
            "text/latex": "A spec\\_tbl\\_df: 6 × 4\n\\begin{tabular}{llll}\n country & food\\_category & consumption & co2\\_emission\\\\\n <chr> & <fct> & <dbl> & <dbl>\\\\\n\\hline\n\t Argentina & pork      & 10.51 &   37.20\\\\\n\t Argentina & poultry   & 38.66 &   41.53\\\\\n\t Argentina & beef      & 55.48 & 1712.00\\\\\n\t Argentina & lamb\\_goat &  1.56 &   54.63\\\\\n\t Argentina & fish      &  4.36 &    6.96\\\\\n\t Argentina & eggs      & 11.39 &   10.46\\\\\n\\end{tabular}\n",
            "text/markdown": "\nA spec_tbl_df: 6 × 4\n\n| country &lt;chr&gt; | food_category &lt;fct&gt; | consumption &lt;dbl&gt; | co2_emission &lt;dbl&gt; |\n|---|---|---|---|\n| Argentina | pork      | 10.51 |   37.20 |\n| Argentina | poultry   | 38.66 |   41.53 |\n| Argentina | beef      | 55.48 | 1712.00 |\n| Argentina | lamb_goat |  1.56 |   54.63 |\n| Argentina | fish      |  4.36 |    6.96 |\n| Argentina | eggs      | 11.39 |   10.46 |\n\n",
            "text/html": [
              "<table class=\"dataframe\">\n",
              "<caption>A spec_tbl_df: 6 × 4</caption>\n",
              "<thead>\n",
              "\t<tr><th scope=col>country</th><th scope=col>food_category</th><th scope=col>consumption</th><th scope=col>co2_emission</th></tr>\n",
              "\t<tr><th scope=col>&lt;chr&gt;</th><th scope=col>&lt;fct&gt;</th><th scope=col>&lt;dbl&gt;</th><th scope=col>&lt;dbl&gt;</th></tr>\n",
              "</thead>\n",
              "<tbody>\n",
              "\t<tr><td>Argentina</td><td>pork     </td><td>10.51</td><td>  37.20</td></tr>\n",
              "\t<tr><td>Argentina</td><td>poultry  </td><td>38.66</td><td>  41.53</td></tr>\n",
              "\t<tr><td>Argentina</td><td>beef     </td><td>55.48</td><td>1712.00</td></tr>\n",
              "\t<tr><td>Argentina</td><td>lamb_goat</td><td> 1.56</td><td>  54.63</td></tr>\n",
              "\t<tr><td>Argentina</td><td>fish     </td><td> 4.36</td><td>   6.96</td></tr>\n",
              "\t<tr><td>Argentina</td><td>eggs     </td><td>11.39</td><td>  10.46</td></tr>\n",
              "</tbody>\n",
              "</table>\n"
            ]
          },
          "metadata": {
            "tags": []
          }
        },
        {
          "output_type": "stream",
          "text": [
            "spec_tbl_df [1,430 × 4] (S3: spec_tbl_df/tbl_df/tbl/data.frame)\n",
            " $ country      : chr [1:1430] \"Argentina\" \"Argentina\" \"Argentina\" \"Argentina\" ...\n",
            " $ food_category: Factor w/ 11 levels \"beef\",\"eggs\",..: 7 8 1 4 3 2 5 11 9 10 ...\n",
            " $ consumption  : num [1:1430] 10.51 38.66 55.48 1.56 4.36 ...\n",
            " $ co2_emission : num [1:1430] 37.2 41.53 1712 54.63 6.96 ...\n"
          ],
          "name": "stdout"
        }
      ]
    },
    {
      "cell_type": "markdown",
      "metadata": {
        "id": "4Z907VR6AJFy"
      },
      "source": [
        "# Quintiles of Co2 emissions"
      ]
    },
    {
      "cell_type": "code",
      "metadata": {
        "colab": {
          "base_uri": "https://localhost:8080/",
          "height": 52
        },
        "id": "rGUaVLSb_rsS",
        "outputId": "863dad5e-e805-49e4-89dc-b69da741a367"
      },
      "source": [
        "# Calculate the deciles of co2_emission\r\n",
        "quantile(food_consumption$co2_emission, probs = seq(0, 1, 0.1))"
      ],
      "execution_count": null,
      "outputs": [
        {
          "output_type": "display_data",
          "data": {
            "text/plain": [
              "      0%      10%      20%      30%      40%      50%      60%      70% \n",
              "   0.000    0.668    3.540    7.040   11.026   16.530   25.590   44.271 \n",
              "     80%      90%     100% \n",
              "  99.978  203.629 1712.000 "
            ],
            "text/latex": "\\begin{description*}\n\\item[0\\textbackslash{}\\%] 0\n\\item[10\\textbackslash{}\\%] 0.668\n\\item[20\\textbackslash{}\\%] 3.54\n\\item[30\\textbackslash{}\\%] 7.04\n\\item[40\\textbackslash{}\\%] 11.026\n\\item[50\\textbackslash{}\\%] 16.53\n\\item[60\\textbackslash{}\\%] 25.59\n\\item[70\\textbackslash{}\\%] 44.271\n\\item[80\\textbackslash{}\\%] 99.978\n\\item[90\\textbackslash{}\\%] 203.629\n\\item[100\\textbackslash{}\\%] 1712\n\\end{description*}\n",
            "text/markdown": "0%\n:   010%\n:   0.66820%\n:   3.5430%\n:   7.0440%\n:   11.02650%\n:   16.5360%\n:   25.5970%\n:   44.27180%\n:   99.97890%\n:   203.629100%\n:   1712\n\n",
            "text/html": [
              "<style>\n",
              ".dl-inline {width: auto; margin:0; padding: 0}\n",
              ".dl-inline>dt, .dl-inline>dd {float: none; width: auto; display: inline-block}\n",
              ".dl-inline>dt::after {content: \":\\0020\"; padding-right: .5ex}\n",
              ".dl-inline>dt:not(:first-of-type) {padding-left: .5ex}\n",
              "</style><dl class=dl-inline><dt>0%</dt><dd>0</dd><dt>10%</dt><dd>0.668</dd><dt>20%</dt><dd>3.54</dd><dt>30%</dt><dd>7.04</dd><dt>40%</dt><dd>11.026</dd><dt>50%</dt><dd>16.53</dd><dt>60%</dt><dd>25.59</dd><dt>70%</dt><dd>44.271</dd><dt>80%</dt><dd>99.978</dd><dt>90%</dt><dd>203.629</dd><dt>100%</dt><dd>1712</dd></dl>\n"
            ]
          },
          "metadata": {
            "tags": []
          }
        }
      ]
    },
    {
      "cell_type": "markdown",
      "metadata": {
        "id": "pqQLwgG_D0xR"
      },
      "source": [
        "# Histogram for every food category in terms of co2 emissions"
      ]
    },
    {
      "cell_type": "markdown",
      "metadata": {
        "id": "b_R81tLgF6nl"
      },
      "source": [
        "Each count observation represent a country."
      ]
    },
    {
      "cell_type": "code",
      "metadata": {
        "colab": {
          "base_uri": "https://localhost:8080/",
          "height": 472
        },
        "id": "gO51WsTuDoRj",
        "outputId": "e0c7f671-9634-434b-c4b2-3aeb4d031f24"
      },
      "source": [
        "# Create subgraphs for each food_category: histogram of co2_emission\r\n",
        "ggplot(food_consumption, aes(co2_emission)) +\r\n",
        "  # Create a histogram\r\n",
        "  geom_histogram() +\r\n",
        "  # Create a separate sub-graph for each food_category\r\n",
        "  facet_wrap(~ food_category)"
      ],
      "execution_count": null,
      "outputs": [
        {
          "output_type": "stream",
          "text": [
            "`stat_bin()` using `bins = 30`. Pick better value with `binwidth`.\n",
            "\n"
          ],
          "name": "stderr"
        },
        {
          "output_type": "display_data",
          "data": {
            "image/png": "[encoded data removed]",
            "text/plain": [
              "plot without title"
            ]
          },
          "metadata": {
            "tags": [],
            "image/png": {
              "width": 420,
              "height": 420
            }
          }
        }
      ]
    },
    {
      "cell_type": "markdown",
      "metadata": {
        "id": "jvKwKejfDEoq"
      },
      "source": [
        "# Center measures and spread."
      ]
    },
    {
      "cell_type": "code",
      "metadata": {
        "colab": {
          "base_uri": "https://localhost:8080/",
          "height": 434
        },
        "id": "oSdUw8ugBome",
        "outputId": "67445b08-664a-4309-ef7c-99aaccc0dd2f"
      },
      "source": [
        "# First I group by  food category and summarize by mean, median, var, sd\r\n",
        "food_cat <- food_consumption %>%\r\n",
        "  group_by(food_category) %>%\r\n",
        "  summarize(mean_cons= mean(consumption), median_cons= median(consumption), sd_cons= sd(consumption),\r\n",
        "  mean_co2 = mean(co2_emission), sd_co2 = sd(co2_emission))\r\n",
        "\r\n",
        "food_cat"
      ],
      "execution_count": null,
      "outputs": [
        {
          "output_type": "display_data",
          "data": {
            "text/plain": [
              "   food_category mean_cons   median_cons sd_cons   mean_co2    sd_co2     \n",
              "1  beef           12.1233846   8.285      9.654140 374.1020000 297.9067105\n",
              "2  eggs            8.1637692   8.420      5.032582   7.4996154   4.6229665\n",
              "3  fish           17.2870769  13.950     19.013508  27.6016923  30.3584807\n",
              "4  lamb_goat       2.6001538   1.325      3.665252  91.0567692 128.3569958\n",
              "5  dairy         125.7746923 110.975     93.327721 179.1538462 132.9356686\n",
              "6  nuts            4.1372308   3.495      3.372817   7.3230000   5.9698955\n",
              "7  pork           16.1236923  10.355     15.717646  57.0700769  55.6323965\n",
              "8  poultry        21.2192308  19.855     14.571980  22.7935385  15.6533320\n",
              "9  rice           29.3751538  11.875     37.324471  37.5916154  47.7637545\n",
              "10 soybeans        0.8605385   0.075      2.083336   0.3873077   0.9380202\n",
              "11 wheat          71.5495385  69.420     44.191318  13.6444615   8.4275700"
            ],
            "text/latex": "A tibble: 11 × 6\n\\begin{tabular}{r|llllll}\n  & food\\_category & mean\\_cons & median\\_cons & sd\\_cons & mean\\_co2 & sd\\_co2\\\\\n  & <fct> & <dbl> & <dbl> & <dbl> & <dbl> & <dbl>\\\\\n\\hline\n\t1 & beef      &  12.1233846 &   8.285 &  9.654140 & 374.1020000 & 297.9067105\\\\\n\t2 & eggs      &   8.1637692 &   8.420 &  5.032582 &   7.4996154 &   4.6229665\\\\\n\t3 & fish      &  17.2870769 &  13.950 & 19.013508 &  27.6016923 &  30.3584807\\\\\n\t4 & lamb\\_goat &   2.6001538 &   1.325 &  3.665252 &  91.0567692 & 128.3569958\\\\\n\t5 & dairy     & 125.7746923 & 110.975 & 93.327721 & 179.1538462 & 132.9356686\\\\\n\t6 & nuts      &   4.1372308 &   3.495 &  3.372817 &   7.3230000 &   5.9698955\\\\\n\t7 & pork      &  16.1236923 &  10.355 & 15.717646 &  57.0700769 &  55.6323965\\\\\n\t8 & poultry   &  21.2192308 &  19.855 & 14.571980 &  22.7935385 &  15.6533320\\\\\n\t9 & rice      &  29.3751538 &  11.875 & 37.324471 &  37.5916154 &  47.7637545\\\\\n\t10 & soybeans  &   0.8605385 &   0.075 &  2.083336 &   0.3873077 &   0.9380202\\\\\n\t11 & wheat     &  71.5495385 &  69.420 & 44.191318 &  13.6444615 &   8.4275700\\\\\n\\end{tabular}\n",
            "text/markdown": "\nA tibble: 11 × 6\n\n| <!--/--> | food_category &lt;fct&gt; | mean_cons &lt;dbl&gt; | median_cons &lt;dbl&gt; | sd_cons &lt;dbl&gt; | mean_co2 &lt;dbl&gt; | sd_co2 &lt;dbl&gt; |\n|---|---|---|---|---|---|---|\n| 1 | beef      |  12.1233846 |   8.285 |  9.654140 | 374.1020000 | 297.9067105 |\n| 2 | eggs      |   8.1637692 |   8.420 |  5.032582 |   7.4996154 |   4.6229665 |\n| 3 | fish      |  17.2870769 |  13.950 | 19.013508 |  27.6016923 |  30.3584807 |\n| 4 | lamb_goat |   2.6001538 |   1.325 |  3.665252 |  91.0567692 | 128.3569958 |\n| 5 | dairy     | 125.7746923 | 110.975 | 93.327721 | 179.1538462 | 132.9356686 |\n| 6 | nuts      |   4.1372308 |   3.495 |  3.372817 |   7.3230000 |   5.9698955 |\n| 7 | pork      |  16.1236923 |  10.355 | 15.717646 |  57.0700769 |  55.6323965 |\n| 8 | poultry   |  21.2192308 |  19.855 | 14.571980 |  22.7935385 |  15.6533320 |\n| 9 | rice      |  29.3751538 |  11.875 | 37.324471 |  37.5916154 |  47.7637545 |\n| 10 | soybeans  |   0.8605385 |   0.075 |  2.083336 |   0.3873077 |   0.9380202 |\n| 11 | wheat     |  71.5495385 |  69.420 | 44.191318 |  13.6444615 |   8.4275700 |\n\n",
            "text/html": [
              "<table class=\"dataframe\">\n",
              "<caption>A tibble: 11 × 6</caption>\n",
              "<thead>\n",
              "\t<tr><th></th><th scope=col>food_category</th><th scope=col>mean_cons</th><th scope=col>median_cons</th><th scope=col>sd_cons</th><th scope=col>mean_co2</th><th scope=col>sd_co2</th></tr>\n",
              "\t<tr><th></th><th scope=col>&lt;fct&gt;</th><th scope=col>&lt;dbl&gt;</th><th scope=col>&lt;dbl&gt;</th><th scope=col>&lt;dbl&gt;</th><th scope=col>&lt;dbl&gt;</th><th scope=col>&lt;dbl&gt;</th></tr>\n",
              "</thead>\n",
              "<tbody>\n",
              "\t<tr><th scope=row>1</th><td>beef     </td><td> 12.1233846</td><td>  8.285</td><td> 9.654140</td><td>374.1020000</td><td>297.9067105</td></tr>\n",
              "\t<tr><th scope=row>2</th><td>eggs     </td><td>  8.1637692</td><td>  8.420</td><td> 5.032582</td><td>  7.4996154</td><td>  4.6229665</td></tr>\n",
              "\t<tr><th scope=row>3</th><td>fish     </td><td> 17.2870769</td><td> 13.950</td><td>19.013508</td><td> 27.6016923</td><td> 30.3584807</td></tr>\n",
              "\t<tr><th scope=row>4</th><td>lamb_goat</td><td>  2.6001538</td><td>  1.325</td><td> 3.665252</td><td> 91.0567692</td><td>128.3569958</td></tr>\n",
              "\t<tr><th scope=row>5</th><td>dairy    </td><td>125.7746923</td><td>110.975</td><td>93.327721</td><td>179.1538462</td><td>132.9356686</td></tr>\n",
              "\t<tr><th scope=row>6</th><td>nuts     </td><td>  4.1372308</td><td>  3.495</td><td> 3.372817</td><td>  7.3230000</td><td>  5.9698955</td></tr>\n",
              "\t<tr><th scope=row>7</th><td>pork     </td><td> 16.1236923</td><td> 10.355</td><td>15.717646</td><td> 57.0700769</td><td> 55.6323965</td></tr>\n",
              "\t<tr><th scope=row>8</th><td>poultry  </td><td> 21.2192308</td><td> 19.855</td><td>14.571980</td><td> 22.7935385</td><td> 15.6533320</td></tr>\n",
              "\t<tr><th scope=row>9</th><td>rice     </td><td> 29.3751538</td><td> 11.875</td><td>37.324471</td><td> 37.5916154</td><td> 47.7637545</td></tr>\n",
              "\t<tr><th scope=row>10</th><td>soybeans </td><td>  0.8605385</td><td>  0.075</td><td> 2.083336</td><td>  0.3873077</td><td>  0.9380202</td></tr>\n",
              "\t<tr><th scope=row>11</th><td>wheat    </td><td> 71.5495385</td><td> 69.420</td><td>44.191318</td><td> 13.6444615</td><td>  8.4275700</td></tr>\n",
              "</tbody>\n",
              "</table>\n"
            ]
          },
          "metadata": {
            "tags": []
          }
        }
      ]
    },
    {
      "cell_type": "markdown",
      "metadata": {
        "id": "CBeHqr21FJzq"
      },
      "source": [
        "Beef has the biggest amount of variation in its CO emissions, while eggs, nuts, and soybeans have relatively small amounts of variation. Even tough it would be preferably to analyze each food category individually in different scales.\r\n",
        "\r\n",
        "Beef consumptions differs in large amount between countries and it's heavy in terms of Co2 emissions."
      ]
    },
    {
      "cell_type": "markdown",
      "metadata": {
        "id": "wBv7kHakJkzs"
      },
      "source": [
        "# 10 countries with highest Co2 emission because of food consumption"
      ]
    },
    {
      "cell_type": "code",
      "metadata": {
        "colab": {
          "base_uri": "https://localhost:8080/",
          "height": 403
        },
        "id": "FE4OPcAnJsxM",
        "outputId": "f83466e0-2511-40bd-b7f7-503059fda532"
      },
      "source": [
        "# Calculate total co2_emission per country: emissions_by_country\r\n",
        "emissions_by_country <- food_consumption %>%\r\n",
        "  group_by(country) %>%\r\n",
        "  summarize(total_emission = sum(co2_emission))\r\n",
        "\r\n",
        "# Sort by total emission and display head 10.\r\n",
        "emissions_by_country <- emissions_by_country[order(-emissions_by_country$total_emission),]\r\n",
        "\r\n",
        "head(emissions_by_country,10)"
      ],
      "execution_count": null,
      "outputs": [
        {
          "output_type": "display_data",
          "data": {
            "text/plain": [
              "   country     total_emission\n",
              "1  Argentina   2172.40       \n",
              "2  Australia   1938.66       \n",
              "3  Albania     1777.85       \n",
              "4  New Zealand 1750.95       \n",
              "5  Iceland     1731.36       \n",
              "6  USA         1718.86       \n",
              "7  Uruguay     1634.91       \n",
              "8  Brazil      1616.73       \n",
              "9  Luxembourg  1598.41       \n",
              "10 Kazakhstan  1575.08       "
            ],
            "text/latex": "A tibble: 10 × 2\n\\begin{tabular}{ll}\n country & total\\_emission\\\\\n <chr> & <dbl>\\\\\n\\hline\n\t Argentina   & 2172.40\\\\\n\t Australia   & 1938.66\\\\\n\t Albania     & 1777.85\\\\\n\t New Zealand & 1750.95\\\\\n\t Iceland     & 1731.36\\\\\n\t USA         & 1718.86\\\\\n\t Uruguay     & 1634.91\\\\\n\t Brazil      & 1616.73\\\\\n\t Luxembourg  & 1598.41\\\\\n\t Kazakhstan  & 1575.08\\\\\n\\end{tabular}\n",
            "text/markdown": "\nA tibble: 10 × 2\n\n| country &lt;chr&gt; | total_emission &lt;dbl&gt; |\n|---|---|\n| Argentina   | 2172.40 |\n| Australia   | 1938.66 |\n| Albania     | 1777.85 |\n| New Zealand | 1750.95 |\n| Iceland     | 1731.36 |\n| USA         | 1718.86 |\n| Uruguay     | 1634.91 |\n| Brazil      | 1616.73 |\n| Luxembourg  | 1598.41 |\n| Kazakhstan  | 1575.08 |\n\n",
            "text/html": [
              "<table class=\"dataframe\">\n",
              "<caption>A tibble: 10 × 2</caption>\n",
              "<thead>\n",
              "\t<tr><th scope=col>country</th><th scope=col>total_emission</th></tr>\n",
              "\t<tr><th scope=col>&lt;chr&gt;</th><th scope=col>&lt;dbl&gt;</th></tr>\n",
              "</thead>\n",
              "<tbody>\n",
              "\t<tr><td>Argentina  </td><td>2172.40</td></tr>\n",
              "\t<tr><td>Australia  </td><td>1938.66</td></tr>\n",
              "\t<tr><td>Albania    </td><td>1777.85</td></tr>\n",
              "\t<tr><td>New Zealand</td><td>1750.95</td></tr>\n",
              "\t<tr><td>Iceland    </td><td>1731.36</td></tr>\n",
              "\t<tr><td>USA        </td><td>1718.86</td></tr>\n",
              "\t<tr><td>Uruguay    </td><td>1634.91</td></tr>\n",
              "\t<tr><td>Brazil     </td><td>1616.73</td></tr>\n",
              "\t<tr><td>Luxembourg </td><td>1598.41</td></tr>\n",
              "\t<tr><td>Kazakhstan </td><td>1575.08</td></tr>\n",
              "</tbody>\n",
              "</table>\n"
            ]
          },
          "metadata": {
            "tags": []
          }
        }
      ]
    },
    {
      "cell_type": "markdown",
      "metadata": {
        "id": "_tWBNkzSN1uM"
      },
      "source": [
        "# Which countries are beyond 1.5 IQR? (Outlier)"
      ]
    },
    {
      "cell_type": "code",
      "metadata": {
        "colab": {
          "base_uri": "https://localhost:8080/",
          "height": 127
        },
        "id": "Z4wV9wLwNy9a",
        "outputId": "200dae99-c58b-4afb-d9bc-61b0263775bd"
      },
      "source": [
        "# Compute the first and third quantiles and IQR of total_emission\r\n",
        "q1 <- quantile(emissions_by_country$total_emission, 0.25)\r\n",
        "q3 <- quantile(emissions_by_country$total_emission, 0.75)\r\n",
        "iqr <- q3 - q1\r\n",
        "\r\n",
        "# Calculate the lower and upper cutoffs for outliers\r\n",
        "lower <- q1 - 1.5 * iqr\r\n",
        "upper <- q3 + 1.5 * iqr\r\n",
        "\r\n",
        "# Filter emissions_by_country to find outliers\r\n",
        "emissions_by_country %>%\r\n",
        "  filter(total_emission < lower | total_emission > upper)"
      ],
      "execution_count": null,
      "outputs": [
        {
          "output_type": "display_data",
          "data": {
            "text/plain": [
              "  country   total_emission\n",
              "1 Argentina 2172.4        "
            ],
            "text/latex": "A tibble: 1 × 2\n\\begin{tabular}{ll}\n country & total\\_emission\\\\\n <chr> & <dbl>\\\\\n\\hline\n\t Argentina & 2172.4\\\\\n\\end{tabular}\n",
            "text/markdown": "\nA tibble: 1 × 2\n\n| country &lt;chr&gt; | total_emission &lt;dbl&gt; |\n|---|---|\n| Argentina | 2172.4 |\n\n",
            "text/html": [
              "<table class=\"dataframe\">\n",
              "<caption>A tibble: 1 × 2</caption>\n",
              "<thead>\n",
              "\t<tr><th scope=col>country</th><th scope=col>total_emission</th></tr>\n",
              "\t<tr><th scope=col>&lt;chr&gt;</th><th scope=col>&lt;dbl&gt;</th></tr>\n",
              "</thead>\n",
              "<tbody>\n",
              "\t<tr><td>Argentina</td><td>2172.4</td></tr>\n",
              "</tbody>\n",
              "</table>\n"
            ]
          },
          "metadata": {
            "tags": []
          }
        }
      ]
    },
    {
      "cell_type": "markdown",
      "metadata": {
        "id": "NSUFDKSPPAGw"
      },
      "source": [
        "In terms of 1.5 IQR. Argentina is the only contry in the dataset to be considered outlier."
      ]
    },
    {
      "cell_type": "markdown",
      "metadata": {
        "id": "vhD3QnDWV1C7"
      },
      "source": [
        "# How many categories each country has above 10kg per person per year?"
      ]
    },
    {
      "cell_type": "code",
      "metadata": {
        "colab": {
          "base_uri": "https://localhost:8080/",
          "height": 281
        },
        "id": "J7Sevr8XQVY3",
        "outputId": "23525224-2593-4149-9d99-c81a08103c35"
      },
      "source": [
        "# Count the deals for each product\r\n",
        "countcat_more_10 = food_consumption %>%\r\n",
        "  filter(consumption>30) %>%\r\n",
        "  count(country)\r\n",
        "\r\n",
        "head(countcat_more_10)"
      ],
      "execution_count": null,
      "outputs": [
        {
          "output_type": "display_data",
          "data": {
            "text/plain": [
              "  country   n\n",
              "1 Albania   2\n",
              "2 Algeria   2\n",
              "3 Angola    1\n",
              "4 Argentina 4\n",
              "5 Armenia   2\n",
              "6 Australia 4"
            ],
            "text/latex": "A spec\\_tbl\\_df: 6 × 2\n\\begin{tabular}{ll}\n country & n\\\\\n <chr> & <int>\\\\\n\\hline\n\t Albania   & 2\\\\\n\t Algeria   & 2\\\\\n\t Angola    & 1\\\\\n\t Argentina & 4\\\\\n\t Armenia   & 2\\\\\n\t Australia & 4\\\\\n\\end{tabular}\n",
            "text/markdown": "\nA spec_tbl_df: 6 × 2\n\n| country &lt;chr&gt; | n &lt;int&gt; |\n|---|---|\n| Albania   | 2 |\n| Algeria   | 2 |\n| Angola    | 1 |\n| Argentina | 4 |\n| Armenia   | 2 |\n| Australia | 4 |\n\n",
            "text/html": [
              "<table class=\"dataframe\">\n",
              "<caption>A spec_tbl_df: 6 × 2</caption>\n",
              "<thead>\n",
              "\t<tr><th scope=col>country</th><th scope=col>n</th></tr>\n",
              "\t<tr><th scope=col>&lt;chr&gt;</th><th scope=col>&lt;int&gt;</th></tr>\n",
              "</thead>\n",
              "<tbody>\n",
              "\t<tr><td>Albania  </td><td>2</td></tr>\n",
              "\t<tr><td>Algeria  </td><td>2</td></tr>\n",
              "\t<tr><td>Angola   </td><td>1</td></tr>\n",
              "\t<tr><td>Argentina</td><td>4</td></tr>\n",
              "\t<tr><td>Armenia  </td><td>2</td></tr>\n",
              "\t<tr><td>Australia</td><td>4</td></tr>\n",
              "</tbody>\n",
              "</table>\n"
            ]
          },
          "metadata": {
            "tags": []
          }
        }
      ]
    },
    {
      "cell_type": "markdown",
      "metadata": {
        "id": "1N60DunbWhFi"
      },
      "source": [
        "For example Argentina has 4 categories above 30kg per year per person of a total of 11. The intensive consumption of some particular animal food categories makes this country to have the highest co2 emission of all.\r\n"
      ]
    }
  ]
}